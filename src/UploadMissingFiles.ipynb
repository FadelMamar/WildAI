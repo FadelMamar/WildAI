{
 "cells": [
  {
   "cell_type": "markdown",
   "metadata": {},
   "source": [
    "# Uploading files\n",
    "\n",
    "This notebook uploads the files that failed to be uploaded. Before running it, make sure that the AWS configuration token has been refresh. \n",
    "\n",
    "To do so, run : ``aws sso login --sso-session fadel-session`` where 'fadel-session' is the name of your session. If you don't remember, open the file ``~/.aws/config``."
   ]
  },
  {
   "cell_type": "code",
   "execution_count": null,
   "metadata": {},
   "outputs": [],
   "source": [
    "# install boto3 and tqdm\n",
    "%pip install boto3[crt]\n",
    "%pip install tqdm"
   ]
  },
  {
   "cell_type": "code",
   "execution_count": null,
   "metadata": {},
   "outputs": [],
   "source": [
    "# Get your configuration info\n",
    "%pycat ~/.aws/config"
   ]
  },
  {
   "cell_type": "code",
   "execution_count": null,
   "metadata": {},
   "outputs": [],
   "source": [
    "# Run the line below to renew the access to aws: replace ``fadel-session`` with the name of your session from the cell above.\n",
    "!aws sso login --sso-session fadel-session"
   ]
  },
  {
   "cell_type": "code",
   "execution_count": null,
   "metadata": {},
   "outputs": [],
   "source": [
    "# Imports\n",
    "import boto3\n",
    "import os\n",
    "from tqdm import tqdm\n",
    "from pathlib import Path"
   ]
  },
  {
   "cell_type": "code",
   "execution_count": null,
   "metadata": {},
   "outputs": [],
   "source": [
    "# Authenticate\n",
    "PROFILE_NAME = 'my-dev-profile' #TODO: update with your profile\n",
    "my_session = boto3.session.Session(profile_name=PROFILE_NAME)"
   ]
  },
  {
   "cell_type": "code",
   "execution_count": null,
   "metadata": {},
   "outputs": [],
   "source": [
    "# Print out bucket names\n",
    "s3_resources = my_session.resource('s3')\n",
    "s3_client = my_session.client('s3')\n",
    "for bucket in s3_resources.buckets.all():\n",
    "    print(bucket.name)"
   ]
  },
  {
   "cell_type": "code",
   "execution_count": null,
   "metadata": {},
   "outputs": [],
   "source": [
    "def upload_file(file_name, bucket:str, root_dir_path:str):\n",
    "    \"\"\"Upload a file to an S3 bucket\n",
    "        file_name (Path): relative path to root_dir_path\n",
    "        bucket (str): name of bucket\n",
    "        root_dir_path (Path): root directory\n",
    "    \"\"\"\n",
    "    # get path of file\n",
    "    object_name = os.path.join(root_dir_path,file_name)\n",
    "    # Upload the file\n",
    "    s3_client = my_session.client('s3')\n",
    "    response = s3_client.upload_file(object_name, bucket, file_name)"
   ]
  },
  {
   "cell_type": "markdown",
   "metadata": {},
   "source": [
    "### Get failed multipart uploads"
   ]
  },
  {
   "cell_type": "code",
   "execution_count": null,
   "metadata": {},
   "outputs": [],
   "source": [
    "# get failed multipart uploads\n",
    "root_dir = ... # path to the folder hosting all your files\n",
    "bucket_name = 'aerialcountdata'\n",
    "results = s3_client.list_multipart_uploads(Bucket=bucket_name)\n",
    "filesToUpload = []\n",
    "for failed_upload in results['Uploads']:\n",
    "    # print(failed_upload['Key'])\n",
    "    # print(failed_upload)\n",
    "    filesToUpload.append(failed_upload['Key'])\n",
    "\n",
    "## print failed multi-parts upload\n",
    "# for a in filesToUpload:\n",
    "#     print(a)"
   ]
  },
  {
   "cell_type": "markdown",
   "metadata": {},
   "source": [
    "### Get files in directory"
   ]
  },
  {
   "cell_type": "code",
   "execution_count": null,
   "metadata": {},
   "outputs": [],
   "source": [
    "# Define files to upload\n",
    "root_dir = ... # Absolute path to the folder hosting all your files\n",
    "bucket_name = 'aerialcountdata'\n",
    "filesToUpload = list(Path(root_dir).rglob('*'))"
   ]
  },
  {
   "cell_type": "markdown",
   "metadata": {},
   "source": [
    "### Upload files\n",
    "Only non-existing files are uploaded"
   ]
  },
  {
   "cell_type": "code",
   "execution_count": null,
   "metadata": {},
   "outputs": [],
   "source": [
    "# Upload files\n",
    "s3 = my_session.resource('s3')\n",
    "num_exists = 0\n",
    "num_uploads = 0\n",
    "for file in tqdm(filesToUpload,desc='Uploading files'):\n",
    "\n",
    "    # check type\n",
    "    if not isinstance(file,Path):\n",
    "        file = Path(file)\n",
    "\n",
    "    #  check if file already exists\n",
    "    try:\n",
    "        file = file.relative_to(Path(root_dir)).as_posix()\n",
    "        s3.Object(bucket_name, file).load()\n",
    "        num_exists += 1\n",
    "        continue\n",
    "\n",
    "    ##  upload file\n",
    "    except Exception as e:\n",
    "        if Path(os.path.join(root_dir,file)).is_file():\n",
    "            upload_file(file_name=file,root_dir_path=root_dir,bucket=bucket_name)\n",
    "            num_uploads += 1\n"
   ]
  },
  {
   "cell_type": "code",
   "execution_count": null,
   "metadata": {},
   "outputs": [],
   "source": [
    "# Example with dummy data upload files\n",
    "# dummyfile = \"collage_elephants.PNG\"\n",
    "# root_dir = '../../' # path to the folder hosting all your files\n",
    "# bucket_name = 'wildaidata-test' # 'aerialcountdata'\n",
    "# upload_file(file_name=dummyfile,root_dir_path=root_dir,bucket=bucket_name)"
   ]
  },
  {
   "cell_type": "code",
   "execution_count": null,
   "metadata": {},
   "outputs": [],
   "source": [
    "count"
   ]
  }
 ],
 "metadata": {
  "kernelspec": {
   "display_name": "wildAiDev",
   "language": "python",
   "name": "python3"
  },
  "language_info": {
   "codemirror_mode": {
    "name": "ipython",
    "version": 3
   },
   "file_extension": ".py",
   "mimetype": "text/x-python",
   "name": "python",
   "nbconvert_exporter": "python",
   "pygments_lexer": "ipython3",
   "version": "3.9.12"
  },
  "orig_nbformat": 4
 },
 "nbformat": 4,
 "nbformat_minor": 2
}
